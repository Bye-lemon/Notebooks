{
 "cells": [
  {
   "cell_type": "code",
   "execution_count": 1,
   "metadata": {},
   "outputs": [],
   "source": [
    "import cv2\n",
    "from matplotlib import pyplot as plt\n",
    "from skimage import feature as ft\n",
    "%matplotlib inline"
   ]
  },
  {
   "cell_type": "code",
   "execution_count": 2,
   "metadata": {},
   "outputs": [
    {
     "data": {
      "text/plain": [
       "<matplotlib.image.AxesImage at 0x13c10aef5c8>"
      ]
     },
     "execution_count": 2,
     "metadata": {},
     "output_type": "execute_result"
    },
    {
     "data": {
      "image/png": "[encoded data removed]",
      "text/plain": [
       "<Figure size 432x288 with 1 Axes>"
      ]
     },
     "metadata": {
      "needs_background": "light"
     },
     "output_type": "display_data"
    }
   ],
   "source": [
    "img = cv2.imread(r\"C:\\Users\\Bye_l\\Desktop\\Dataset\\0\\IMG_1118.JPG\")\n",
    "img = cv2.cvtColor(img, cv2.COLOR_BGR2RGB)\n",
    "plt.imshow(img)"
   ]
  },
  {
   "cell_type": "code",
   "execution_count": 3,
   "metadata": {},
   "outputs": [
    {
     "data": {
      "text/plain": [
       "('C:\\\\Users\\\\Bye_l\\\\Desktop\\\\Dataset\\\\0\\\\IMG_1118.JPG',\n",
       " 'C:\\\\Users\\\\Bye_l\\\\Desktop\\\\Dataset\\\\9\\\\IMG_5990.JPG')"
      ]
     },
     "execution_count": 3,
     "metadata": {},
     "output_type": "execute_result"
    }
   ],
   "source": [
    "import glob\n",
    "file_path = glob.glob(r\"C:\\Users\\Bye_l\\Desktop\\Dataset\\*\\*.JPG\")\n",
    "file_path[0], file_path[-1]"
   ]
  },
  {
   "cell_type": "code",
   "execution_count": 4,
   "metadata": {},
   "outputs": [],
   "source": [
    "import random\n",
    "import tqdm\n",
    "import numpy as np"
   ]
  },
  {
   "cell_type": "code",
   "execution_count": 5,
   "metadata": {},
   "outputs": [
    {
     "name": "stderr",
     "output_type": "stream",
     "text": [
      "100%|████████████████████████████████████████████████████████████████████████████| 205/205 [00:00<00:00, 206095.95it/s]\n",
      "100%|████████████████████████████████████████████████████████████████████████████| 206/206 [00:00<00:00, 103303.04it/s]\n",
      "100%|████████████████████████████████████████████████████████████████████████████| 206/206 [00:00<00:00, 103327.75it/s]\n",
      "100%|████████████████████████████████████████████████████████████████████████████| 206/206 [00:00<00:00, 206359.36it/s]\n",
      "100%|█████████████████████████████████████████████████████████████████████████████| 207/207 [00:00<00:00, 51886.75it/s]\n",
      "100%|████████████████████████████████████████████████████████████████████████████| 207/207 [00:00<00:00, 200698.32it/s]\n",
      "100%|████████████████████████████████████████████████████████████████████████████| 207/207 [00:00<00:00, 103816.92it/s]\n",
      "100%|████████████████████████████████████████████████████████████████████████████| 206/206 [00:00<00:00, 103216.66it/s]\n",
      "100%|████████████████████████████████████████████████████████████████████████████| 208/208 [00:00<00:00, 208263.36it/s]\n",
      "100%|█████████████████████████████████████████████████████████████████████████████| 204/204 [00:00<00:00, 51015.86it/s]\n"
     ]
    }
   ],
   "source": [
    "x_train, y_train, x_test, y_test = [], [], [], []\n",
    "for i in range(10):\n",
    "    target = \"C:\\\\Users\\\\Bye_l\\\\Desktop\\\\Dataset\\\\\" + str(i) + \"\\\\*.JPG\"\n",
    "    imgs = glob.glob(target)\n",
    "    test = random.sample(imgs, int(0.1*len(imgs)))\n",
    "    for img_name in tqdm.tqdm(imgs):\n",
    "        x, y = (x_train, y_train) if img_name not in test else (x_test, y_test)\n",
    "        x.append(img_name)\n",
    "        y.append(str(i))\n",
    "x_train, y_train, x_test, y_test = np.array(x_train), np.array(y_train), np.array(x_test), np.array(y_test)"
   ]
  },
  {
   "cell_type": "code",
   "execution_count": 6,
   "metadata": {},
   "outputs": [],
   "source": [
    "def sift(img):\n",
    "    img = cv2.resize(img, (100, 100))\n",
    "    gray = cv2.cvtColor(img, cv2.COLOR_BGR2GRAY)\n",
    "    detector = cv2.xfeatures2d.SIFT_create()\n",
    "    kp, des = detector.detectAndCompute(gray, None)\n",
    "    return des"
   ]
  },
  {
   "cell_type": "code",
   "execution_count": 10,
   "metadata": {},
   "outputs": [
    {
     "data": {
      "text/plain": [
       "array([[ 51.,  92.,  13., ...,   0.,   0.,   0.],\n",
       "       [ 11., 122., 132., ...,   0.,   4.,   6.],\n",
       "       [117.,  33.,  25., ...,   0.,  15., 117.],\n",
       "       ...,\n",
       "       [ 49.,  83., 115., ...,   0.,   0.,  56.],\n",
       "       [ 28.,  76., 116., ...,   0.,   0.,  39.],\n",
       "       [  0.,   9., 143., ...,   0.,   0.,   0.]], dtype=float32)"
      ]
     },
     "execution_count": 10,
     "metadata": {},
     "output_type": "execute_result"
    }
   ],
   "source": [
    "img = cv2.imread(x_train[0])\n",
    "des = sift(img)\n",
    "des"
   ]
  },
  {
   "cell_type": "code",
   "execution_count": 12,
   "metadata": {},
   "outputs": [
    {
     "name": "stderr",
     "output_type": "stream",
     "text": [
      "100%|██████████████████████████████████████████████████████████████████████████████| 1862/1862 [00:27<00:00, 67.52it/s]\n",
      "100%|████████████████████████████████████████████████████████████████████████████████| 200/200 [00:03<00:00, 57.44it/s]\n"
     ]
    }
   ],
   "source": [
    "sift_train = []\n",
    "for path in tqdm.tqdm(x_train):\n",
    "    img = cv2.imread(path)\n",
    "    sift_train.append(sift(img))\n",
    "sift_test = []\n",
    "for path in tqdm.tqdm(x_test):\n",
    "    img = cv2.imread(path)\n",
    "    sift_test.append(sift(img))"
   ]
  },
  {
   "cell_type": "code",
   "execution_count": 27,
   "metadata": {},
   "outputs": [],
   "source": [
    "sift_train, sift_test = np.array(sift_train), np.array(sift_test)"
   ]
  },
  {
   "cell_type": "code",
   "execution_count": 9,
   "metadata": {},
   "outputs": [],
   "source": [
    "from sklearn.cluster import KMeans"
   ]
  },
  {
   "cell_type": "code",
   "execution_count": 80,
   "metadata": {},
   "outputs": [],
   "source": [
    "def cluster(n, des):\n",
    "    des_ = np.zeros((1, 128))\n",
    "    for i in tqdm.tqdm(des):\n",
    "        des_ = np.row_stack((des_, i))\n",
    "    kmeans = KMeans(n_clusters=n, random_state=None).fit(des_[1:, :])\n",
    "    return kmeans"
   ]
  },
  {
   "cell_type": "code",
   "execution_count": null,
   "metadata": {},
   "outputs": [
    {
     "name": "stderr",
     "output_type": "stream",
     "text": [
      "100%|██████████████████████████████████████████████████████████████████████████████| 1862/1862 [00:27<00:00, 67.77it/s]\n"
     ]
    }
   ],
   "source": [
    "kmeans = cluster(100, sift_train)"
   ]
  },
  {
   "cell_type": "code",
   "execution_count": 76,
   "metadata": {},
   "outputs": [
    {
     "data": {
      "text/plain": [
       "array([[ 9.87298387,  7.33266129,  9.58467742, ...,  7.77620968,\n",
       "         8.17943548, 12.72782258],\n",
       "       [17.95501022, 44.22290389, 19.85685072, ..., 24.84867076,\n",
       "        12.55828221, 13.6993865 ],\n",
       "       [25.91160221, 18.26887661, 13.84714549, ...,  5.893186  ,\n",
       "        10.51381215, 34.46961326],\n",
       "       ...,\n",
       "       [15.8836425 , 10.86340641, 12.23608769, ...,  7.3777403 ,\n",
       "        17.86509275, 44.61382799],\n",
       "       [ 3.39837398,  3.06233062,  1.72357724, ..., 35.75880759,\n",
       "        20.24119241,  9.82113821],\n",
       "       [22.29657795,  9.89543726,  6.18821293, ...,  2.56273764,\n",
       "         2.2148289 ,  5.25855513]])"
      ]
     },
     "execution_count": 76,
     "metadata": {},
     "output_type": "execute_result"
    }
   ],
   "source": [
    "kmeans.cluster_centers_"
   ]
  },
  {
   "cell_type": "code",
   "execution_count": 50,
   "metadata": {},
   "outputs": [],
   "source": [
    "def des2feat(des, centers):\n",
    "    feat_vec = np.zeros([len(centers)])\n",
    "    for i in des:\n",
    "        diff = np.tile(i, (len(centers), 1)) - centers\n",
    "        dist = ((diff**2).sum(axis=1))**0.5\n",
    "        idx = dist.argsort()[0]\n",
    "        feat_vec[idx] += 1\n",
    "    return feat_vec"
   ]
  },
  {
   "cell_type": "code",
   "execution_count": 77,
   "metadata": {},
   "outputs": [
    {
     "name": "stderr",
     "output_type": "stream",
     "text": [
      "100%|█████████████████████████████████████████████████████████████████████████████| 1862/1862 [00:04<00:00, 455.71it/s]\n",
      "100%|███████████████████████████████████████████████████████████████████████████████| 200/200 [00:00<00:00, 530.89it/s]\n"
     ]
    }
   ],
   "source": [
    "feat_train = []\n",
    "feat_test = []\n",
    "for i in tqdm.tqdm(sift_train):\n",
    "    feat_train.append(des2feat(i, kmeans.cluster_centers_))\n",
    "for i in tqdm.tqdm(sift_test):\n",
    "    feat_test.append(des2feat(i, kmeans.cluster_centers_))\n",
    "feat_train, feat_test = np.array(feat_train), np.array(feat_test)"
   ]
  },
  {
   "cell_type": "code",
   "execution_count": 72,
   "metadata": {},
   "outputs": [],
   "source": [
    "from sklearn.neighbors import KNeighborsClassifier as KNN"
   ]
  },
  {
   "cell_type": "code",
   "execution_count": 78,
   "metadata": {},
   "outputs": [
    {
     "name": "stderr",
     "output_type": "stream",
     "text": [
      "100%|██████████████████████████████████████████████████████████████████████████████████| 15/15 [00:01<00:00,  8.42it/s]\n"
     ]
    }
   ],
   "source": [
    "scores = []\n",
    "for i in tqdm.trange(15):\n",
    "    knn = KNN(n_neighbors=i+1)\n",
    "    knn.fit(feat_train, y_train)\n",
    "    score = knn.score(feat_test, y_test)\n",
    "    scores.append(score)"
   ]
  },
  {
   "cell_type": "code",
   "execution_count": 79,
   "metadata": {},
   "outputs": [
    {
     "data": {
      "text/plain": [
       "[<matplotlib.lines.Line2D at 0x13c143ec6c8>]"
      ]
     },
     "execution_count": 79,
     "metadata": {},
     "output_type": "execute_result"
    },
    {
     "data": {
      "image/png": "[encoded data removed]",
      "text/plain": [
       "<Figure size 432x288 with 1 Axes>"
      ]
     },
     "metadata": {
      "needs_background": "light"
     },
     "output_type": "display_data"
    }
   ],
   "source": [
    "plt.plot(scores)"
   ]
  }
 ],
 "metadata": {
  "kernelspec": {
   "display_name": "Python 3",
   "language": "python",
   "name": "python3"
  },
  "language_info": {
   "codemirror_mode": {
    "name": "ipython",
    "version": 3
   },
   "file_extension": ".py",
   "mimetype": "text/x-python",
   "name": "python",
   "nbconvert_exporter": "python",
   "pygments_lexer": "ipython3",
   "version": "3.7.7"
  }
 },
 "nbformat": 4,
 "nbformat_minor": 4
}